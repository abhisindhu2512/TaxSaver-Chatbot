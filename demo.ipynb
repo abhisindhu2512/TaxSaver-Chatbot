{
 "cells": [
  {
   "cell_type": "code",
   "execution_count": 1,
   "metadata": {},
   "outputs": [
    {
     "name": "stderr",
     "output_type": "stream",
     "text": [
      "d:\\Data Science\\GenAI\\Projects\\TaxSaver\\prompt.py:1: SyntaxWarning: invalid escape sequence '\\ '\n",
      "  rephrase_template = '''Given a chat history and the latest user question \\ which might reference context in the chat history, formulate a standalone question\n"
     ]
    }
   ],
   "source": [
    "from ChatbotQuery import chatbot\n",
    "from DatabaseCreator import Create_DataBase\n",
    "from LLM import LLMService\n",
    "import json"
   ]
  },
  {
   "cell_type": "code",
   "execution_count": 2,
   "metadata": {},
   "outputs": [],
   "source": [
    "with open('config.json') as f:\n",
    "    config = json.load(f)"
   ]
  },
  {
   "cell_type": "code",
   "execution_count": 3,
   "metadata": {},
   "outputs": [],
   "source": [
    "openai_key = config['OPENAI']['API_KEY']\n",
    "chat_model = config['OPENAI']['LLM_MODEL']\n",
    "embedding_model = config['OPENAI']['EMBEDDING_MODEL']\n",
    "document = 'Tax Data.pdf'"
   ]
  },
  {
   "cell_type": "code",
   "execution_count": 4,
   "metadata": {},
   "outputs": [],
   "source": [
    "llm_service = LLMService(api_key=openai_key)"
   ]
  },
  {
   "cell_type": "code",
   "execution_count": 5,
   "metadata": {},
   "outputs": [],
   "source": [
    "database = Create_DataBase(llm_service = llm_service,embedding_model = embedding_model,document = document)"
   ]
  },
  {
   "cell_type": "code",
   "execution_count": 6,
   "metadata": {},
   "outputs": [
    {
     "name": "stdout",
     "output_type": "stream",
     "text": [
      "Extracting text using PyPDF\n"
     ]
    }
   ],
   "source": [
    "database = database.transform_pdf_to_dataframe()"
   ]
  },
  {
   "cell_type": "code",
   "execution_count": 5,
   "metadata": {},
   "outputs": [],
   "source": [
    "chatbot = chatbot(llm_service=llm_service,chat_model=chat_model,embedding_model=embedding_model,document=document)"
   ]
  },
  {
   "cell_type": "code",
   "execution_count": 6,
   "metadata": {},
   "outputs": [],
   "source": [
    "query = \"Where is new delhi?\""
   ]
  },
  {
   "cell_type": "code",
   "execution_count": 7,
   "metadata": {},
   "outputs": [
    {
     "name": "stdout",
     "output_type": "stream",
     "text": [
      "I'm glad you're interested in geography, but I can only help with India's tax-related queries. If you have a question about taxes in India, feel free to ask!\n"
     ]
    }
   ],
   "source": [
    "print(chatbot.query_answering(query = query))"
   ]
  },
  {
   "cell_type": "code",
   "execution_count": 8,
   "metadata": {},
   "outputs": [],
   "source": [
    "query = \"Who should file tax?\""
   ]
  },
  {
   "cell_type": "code",
   "execution_count": 9,
   "metadata": {},
   "outputs": [
    {
     "name": "stdout",
     "output_type": "stream",
     "text": [
      "According to the context provided, here are the details on who should file tax in India:\n",
      "\n",
      "- **All residents and non-residents** in India must file income tax returns.\n",
      "- Tax is payable if the income exceeds **Rs 3 lakh** in a financial year.\n",
      "- Various categories of taxpayers are identified under the Income Tax Act, which include:\n",
      "  - Individuals\n",
      "  - Hindu Undivided Family (HUF)\n",
      "  - Firms\n",
      "  - Companies\n",
      "  - Association of Persons (AOP)\n",
      "  - Body of Individuals (BOI)\n",
      "  - Local Authority\n",
      "  - Artificial Judicial Person\n",
      "\n",
      "If you have any more specific questions regarding tax filing, feel free to ask!\n"
     ]
    }
   ],
   "source": [
    "print(chatbot.query_answering(query = query))"
   ]
  }
 ],
 "metadata": {
  "kernelspec": {
   "display_name": ".venv",
   "language": "python",
   "name": "python3"
  },
  "language_info": {
   "codemirror_mode": {
    "name": "ipython",
    "version": 3
   },
   "file_extension": ".py",
   "mimetype": "text/x-python",
   "name": "python",
   "nbconvert_exporter": "python",
   "pygments_lexer": "ipython3",
   "version": "3.12.3"
  }
 },
 "nbformat": 4,
 "nbformat_minor": 2
}
